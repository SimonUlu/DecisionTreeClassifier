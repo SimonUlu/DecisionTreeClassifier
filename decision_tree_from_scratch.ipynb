{
 "cells": [
  {
   "cell_type": "code",
   "execution_count": 1,
   "id": "b7a2edfa",
   "metadata": {},
   "outputs": [],
   "source": [
    "### lib for arrays with cols and rows\n",
    "import pandas as pd\n",
    "\n",
    "columns = [\"length\", \"helpful\", \"emotional\", \"Sentiment\"]\n",
    "\n",
    "data = [\n",
    "    [\"long\", \"yes\", \"yes\", \"positive\"],\n",
    "    [\"short\", \"no\", \"no\", \"negative\"],\n",
    "    [\"long\", \"yes\", \"yes\", \"positive\"],\n",
    "    [\"long\", \"yes\", \"no\", \"negative\"],\n",
    "    [\"long\", \"no\", \"yes\", \"positive\"],\n",
    "    [\"short\", \"yes\", \"yes\", \"positive\"],\n",
    "    [\"long\", \"no\", \"no\", \"negative\"],\n",
    "    [\"long\", \"no\", \"no\", \"positive\"],\n",
    "    [\"long\", \"yes\", \"yes\", \"positive\"],\n",
    "    [\"long\", \"no\", \"no\", \"positive\"], \n",
    "    [\"long\", \"no\", \"no\", \"positive\"],\n",
    "]\n",
    "\n",
    "other_data_1 = [\n",
    "    [\"long\", \"yes\", \"yes\", \"positive\"],\n",
    "    [\"short\", \"no\", \"no\", \"negative\"],\n",
    "    [\"long\", \"yes\", \"yes\", \"positive\"],\n",
    "    [\"long\", \"yes\", \"no\", \"positive\"],\n",
    "]\n",
    "\n",
    "other_data_2 = [\n",
    "    [\"short\", \"yes\", \"yes\", \"positive\"],\n",
    "    [\"short\", \"no\", \"no\", \"negative\"],\n",
    "    [\"long\", \"no\", \"no\", \"positive\"],\n",
    "    [\"long\", \"yes\", \"yes\", \"positive\"],\n",
    "]\n",
    "\n",
    "other_data_3 = [\n",
    "    [\"short\", \"no\", \"no\", \"negative\"], \n",
    "    [\"long\", \"no\", \"no\", \"positive\"],\n",
    "    [\"short\", \"yes\", \"no\", \"negative\"],\n",
    "    [\"long\", \"no\", \"yes\", \"positive\"],\n",
    "]\n",
    "\n",
    "rows = [\"Review 1\",\"Review 2\", \"Review 3\", \"Review 4\", \"Review 5\", \"Review 6\",\n",
    "       \"Review 7\", \"Review 8\", \"Review 9\", \"Review 10\", \"Review 11\"]\n",
    "\n",
    "\n",
    "df = pd.DataFrame(data = data, columns = columns, index = rows)\n",
    "df2 = pd.DataFrame(other_data_1, columns = columns, index = rows[0:4])\n",
    "df3 = pd.DataFrame(other_data_2, columns = columns, index = rows[5:9])\n",
    "df4 = pd.DataFrame(other_data_3, columns = columns, index = [\"Review 10\", \"Review 11\", \"Review 1\",\"Review 2\"])"
   ]
  },
  {
   "cell_type": "markdown",
   "id": "78b7c78f",
   "metadata": {},
   "source": [
    "### To display parts of the whole dataset for presentation"
   ]
  },
  {
   "cell_type": "code",
   "execution_count": 2,
   "id": "94f1595e",
   "metadata": {},
   "outputs": [
    {
     "data": {
      "text/html": [
       "<div>\n",
       "<style scoped>\n",
       "    .dataframe tbody tr th:only-of-type {\n",
       "        vertical-align: middle;\n",
       "    }\n",
       "\n",
       "    .dataframe tbody tr th {\n",
       "        vertical-align: top;\n",
       "    }\n",
       "\n",
       "    .dataframe thead th {\n",
       "        text-align: right;\n",
       "    }\n",
       "</style>\n",
       "<table border=\"1\" class=\"dataframe\">\n",
       "  <thead>\n",
       "    <tr style=\"text-align: right;\">\n",
       "      <th></th>\n",
       "      <th>length</th>\n",
       "      <th>helpful</th>\n",
       "      <th>emotional</th>\n",
       "      <th>Sentiment</th>\n",
       "    </tr>\n",
       "  </thead>\n",
       "  <tbody>\n",
       "    <tr>\n",
       "      <th>Review 1</th>\n",
       "      <td>long</td>\n",
       "      <td>yes</td>\n",
       "      <td>yes</td>\n",
       "      <td>positive</td>\n",
       "    </tr>\n",
       "    <tr>\n",
       "      <th>Review 2</th>\n",
       "      <td>short</td>\n",
       "      <td>no</td>\n",
       "      <td>no</td>\n",
       "      <td>negative</td>\n",
       "    </tr>\n",
       "    <tr>\n",
       "      <th>Review 3</th>\n",
       "      <td>long</td>\n",
       "      <td>yes</td>\n",
       "      <td>yes</td>\n",
       "      <td>positive</td>\n",
       "    </tr>\n",
       "    <tr>\n",
       "      <th>Review 4</th>\n",
       "      <td>long</td>\n",
       "      <td>yes</td>\n",
       "      <td>no</td>\n",
       "      <td>negative</td>\n",
       "    </tr>\n",
       "    <tr>\n",
       "      <th>Review 5</th>\n",
       "      <td>long</td>\n",
       "      <td>no</td>\n",
       "      <td>yes</td>\n",
       "      <td>positive</td>\n",
       "    </tr>\n",
       "    <tr>\n",
       "      <th>Review 6</th>\n",
       "      <td>short</td>\n",
       "      <td>yes</td>\n",
       "      <td>yes</td>\n",
       "      <td>positive</td>\n",
       "    </tr>\n",
       "    <tr>\n",
       "      <th>Review 7</th>\n",
       "      <td>long</td>\n",
       "      <td>no</td>\n",
       "      <td>no</td>\n",
       "      <td>negative</td>\n",
       "    </tr>\n",
       "    <tr>\n",
       "      <th>Review 8</th>\n",
       "      <td>long</td>\n",
       "      <td>no</td>\n",
       "      <td>no</td>\n",
       "      <td>positive</td>\n",
       "    </tr>\n",
       "    <tr>\n",
       "      <th>Review 9</th>\n",
       "      <td>long</td>\n",
       "      <td>yes</td>\n",
       "      <td>yes</td>\n",
       "      <td>positive</td>\n",
       "    </tr>\n",
       "    <tr>\n",
       "      <th>Review 10</th>\n",
       "      <td>long</td>\n",
       "      <td>no</td>\n",
       "      <td>no</td>\n",
       "      <td>positive</td>\n",
       "    </tr>\n",
       "    <tr>\n",
       "      <th>Review 11</th>\n",
       "      <td>long</td>\n",
       "      <td>no</td>\n",
       "      <td>no</td>\n",
       "      <td>positive</td>\n",
       "    </tr>\n",
       "  </tbody>\n",
       "</table>\n",
       "</div>"
      ],
      "text/plain": [
       "          length helpful emotional Sentiment\n",
       "Review 1    long     yes       yes  positive\n",
       "Review 2   short      no        no  negative\n",
       "Review 3    long     yes       yes  positive\n",
       "Review 4    long     yes        no  negative\n",
       "Review 5    long      no       yes  positive\n",
       "Review 6   short     yes       yes  positive\n",
       "Review 7    long      no        no  negative\n",
       "Review 8    long      no        no  positive\n",
       "Review 9    long     yes       yes  positive\n",
       "Review 10   long      no        no  positive\n",
       "Review 11   long      no        no  positive"
      ]
     },
     "execution_count": 2,
     "metadata": {},
     "output_type": "execute_result"
    }
   ],
   "source": [
    "df"
   ]
  },
  {
   "cell_type": "markdown",
   "id": "d4699f79",
   "metadata": {},
   "source": [
    "### Helper functions "
   ]
  },
  {
   "cell_type": "code",
   "execution_count": 3,
   "id": "ead91c01",
   "metadata": {},
   "outputs": [],
   "source": [
    "### helper function to check how many labels my ds has and if a value is numeric\n",
    "\n",
    "def class_counts(rows):\n",
    "    \"\"\"Counts the number of each type of example in a dataset.\"\"\"\n",
    "    counts = {}  # a dictionary of label -> count.\n",
    "    for row in rows:\n",
    "        # in our dataset format, the label is always the last column\n",
    "        label = row[-1]\n",
    "        if label not in counts:\n",
    "            counts[label] = 0\n",
    "        counts[label] += 1\n",
    "    return counts\n",
    "\n",
    "class_counts(df)\n",
    "\n",
    "def is_numeric(value):\n",
    "    \"\"\"Test if a value is numeric.\"\"\"\n",
    "    return isinstance(value, int) or isinstance(value, float)"
   ]
  },
  {
   "cell_type": "markdown",
   "id": "3df2dacb",
   "metadata": {},
   "source": [
    "### Class for question to partitiate a dataset"
   ]
  },
  {
   "cell_type": "code",
   "execution_count": 4,
   "id": "4a500a5c",
   "metadata": {},
   "outputs": [],
   "source": [
    "## class is created\n",
    "\"\"\"A Question is used to partition a dataset.\n",
    "This class just records a 'column number' (e.g., 0 for Color) and a\n",
    "'column value' (e.g., Green). The 'match' method is used to compare\n",
    "the feature value in an example to the feature value stored in the\n",
    "question. See the demo below.\n",
    "\"\"\"\n",
    "class Question:\n",
    "    def __init__(self, column, value):\n",
    "        self.column = column\n",
    "        self.value = value\n",
    "        \n",
    "    def match(self, example):\n",
    "        # Compare the feature value in an example to the\n",
    "        # feature value in this question.\n",
    "        val = example[self.column]\n",
    "        if is_numeric(val):\n",
    "            return val >= self.value\n",
    "        else:\n",
    "            return val == self.value\n",
    "        \n",
    "\n",
    "    def __repr__(self):\n",
    "        # This is just a helper method to print\n",
    "        # the question in a readable format.\n",
    "        condition = \"==\"\n",
    "        return \"Is %s %s %s?\" % (\n",
    "            columns[self.column], condition, str(self.value))\n",
    "    "
   ]
  },
  {
   "cell_type": "code",
   "execution_count": 5,
   "id": "79e63f30",
   "metadata": {},
   "outputs": [
    {
     "data": {
      "text/plain": [
       "Is length == long?"
      ]
     },
     "execution_count": 5,
     "metadata": {},
     "output_type": "execute_result"
    }
   ],
   "source": [
    "Question(0, \"long\")"
   ]
  },
  {
   "cell_type": "markdown",
   "id": "e8921d16",
   "metadata": {},
   "source": [
    "## Lets partitiate our dataset according to a randomly picked question"
   ]
  },
  {
   "cell_type": "code",
   "execution_count": 46,
   "id": "6121f27d",
   "metadata": {},
   "outputs": [],
   "source": [
    "def partition(rows, question):\n",
    "    \"\"\"Partitions a dataset.\n",
    "\n",
    "    For each row in the dataset, check if it matches the question. If\n",
    "    so, add it to 'true rows', otherwise, add it to 'false rows'.\n",
    "    \"\"\"\n",
    "    true_rows, false_rows = [], []\n",
    "    for row in rows:\n",
    "        if question.match(row):\n",
    "            true_rows.append(row)\n",
    "        else:\n",
    "            false_rows.append(row)\n",
    "    return true_rows, false_rows\n",
    "\n",
    "#######\n",
    "# Demo:\n",
    "# Let's partition the training data based on whether item of dataset has length short.\n",
    "true_rows, false_rows = partition(data, Question(0, 'short'))\n",
    "# true_rows will contain all the short reviews.\n",
    "\n",
    "\n",
    "def transform_data_to_df(data):\n",
    "    df = pd.DataFrame(data, columns = columns)\n",
    "    return df"
   ]
  },
  {
   "cell_type": "code",
   "execution_count": 47,
   "id": "ab385b0e",
   "metadata": {},
   "outputs": [
    {
     "data": {
      "text/html": [
       "<div>\n",
       "<style scoped>\n",
       "    .dataframe tbody tr th:only-of-type {\n",
       "        vertical-align: middle;\n",
       "    }\n",
       "\n",
       "    .dataframe tbody tr th {\n",
       "        vertical-align: top;\n",
       "    }\n",
       "\n",
       "    .dataframe thead th {\n",
       "        text-align: right;\n",
       "    }\n",
       "</style>\n",
       "<table border=\"1\" class=\"dataframe\">\n",
       "  <thead>\n",
       "    <tr style=\"text-align: right;\">\n",
       "      <th></th>\n",
       "      <th>length</th>\n",
       "      <th>helpful</th>\n",
       "      <th>emotional</th>\n",
       "      <th>Sentiment</th>\n",
       "    </tr>\n",
       "  </thead>\n",
       "  <tbody>\n",
       "    <tr>\n",
       "      <th>0</th>\n",
       "      <td>short</td>\n",
       "      <td>no</td>\n",
       "      <td>no</td>\n",
       "      <td>negative</td>\n",
       "    </tr>\n",
       "    <tr>\n",
       "      <th>1</th>\n",
       "      <td>short</td>\n",
       "      <td>yes</td>\n",
       "      <td>yes</td>\n",
       "      <td>positive</td>\n",
       "    </tr>\n",
       "  </tbody>\n",
       "</table>\n",
       "</div>"
      ],
      "text/plain": [
       "  length helpful emotional Sentiment\n",
       "0  short      no        no  negative\n",
       "1  short     yes       yes  positive"
      ]
     },
     "execution_count": 47,
     "metadata": {},
     "output_type": "execute_result"
    }
   ],
   "source": [
    "true_rows_df = transform_data_to_df(true_rows)\n",
    "true_rows_df"
   ]
  },
  {
   "cell_type": "code",
   "execution_count": 48,
   "id": "1be4e6fc",
   "metadata": {},
   "outputs": [
    {
     "data": {
      "text/html": [
       "<div>\n",
       "<style scoped>\n",
       "    .dataframe tbody tr th:only-of-type {\n",
       "        vertical-align: middle;\n",
       "    }\n",
       "\n",
       "    .dataframe tbody tr th {\n",
       "        vertical-align: top;\n",
       "    }\n",
       "\n",
       "    .dataframe thead th {\n",
       "        text-align: right;\n",
       "    }\n",
       "</style>\n",
       "<table border=\"1\" class=\"dataframe\">\n",
       "  <thead>\n",
       "    <tr style=\"text-align: right;\">\n",
       "      <th></th>\n",
       "      <th>length</th>\n",
       "      <th>helpful</th>\n",
       "      <th>emotional</th>\n",
       "      <th>Sentiment</th>\n",
       "    </tr>\n",
       "  </thead>\n",
       "  <tbody>\n",
       "    <tr>\n",
       "      <th>0</th>\n",
       "      <td>long</td>\n",
       "      <td>yes</td>\n",
       "      <td>yes</td>\n",
       "      <td>positive</td>\n",
       "    </tr>\n",
       "    <tr>\n",
       "      <th>1</th>\n",
       "      <td>long</td>\n",
       "      <td>yes</td>\n",
       "      <td>yes</td>\n",
       "      <td>positive</td>\n",
       "    </tr>\n",
       "    <tr>\n",
       "      <th>2</th>\n",
       "      <td>long</td>\n",
       "      <td>yes</td>\n",
       "      <td>no</td>\n",
       "      <td>negative</td>\n",
       "    </tr>\n",
       "    <tr>\n",
       "      <th>3</th>\n",
       "      <td>long</td>\n",
       "      <td>no</td>\n",
       "      <td>yes</td>\n",
       "      <td>positive</td>\n",
       "    </tr>\n",
       "    <tr>\n",
       "      <th>4</th>\n",
       "      <td>long</td>\n",
       "      <td>no</td>\n",
       "      <td>no</td>\n",
       "      <td>negative</td>\n",
       "    </tr>\n",
       "    <tr>\n",
       "      <th>5</th>\n",
       "      <td>long</td>\n",
       "      <td>no</td>\n",
       "      <td>no</td>\n",
       "      <td>positive</td>\n",
       "    </tr>\n",
       "    <tr>\n",
       "      <th>6</th>\n",
       "      <td>long</td>\n",
       "      <td>yes</td>\n",
       "      <td>yes</td>\n",
       "      <td>positive</td>\n",
       "    </tr>\n",
       "    <tr>\n",
       "      <th>7</th>\n",
       "      <td>long</td>\n",
       "      <td>no</td>\n",
       "      <td>no</td>\n",
       "      <td>positive</td>\n",
       "    </tr>\n",
       "    <tr>\n",
       "      <th>8</th>\n",
       "      <td>long</td>\n",
       "      <td>no</td>\n",
       "      <td>no</td>\n",
       "      <td>positive</td>\n",
       "    </tr>\n",
       "  </tbody>\n",
       "</table>\n",
       "</div>"
      ],
      "text/plain": [
       "  length helpful emotional Sentiment\n",
       "0   long     yes       yes  positive\n",
       "1   long     yes       yes  positive\n",
       "2   long     yes        no  negative\n",
       "3   long      no       yes  positive\n",
       "4   long      no        no  negative\n",
       "5   long      no        no  positive\n",
       "6   long     yes       yes  positive\n",
       "7   long      no        no  positive\n",
       "8   long      no        no  positive"
      ]
     },
     "execution_count": 48,
     "metadata": {},
     "output_type": "execute_result"
    }
   ],
   "source": [
    "false_rows_df = transform_data_to_df(false_rows)\n",
    "false_rows_df"
   ]
  },
  {
   "cell_type": "code",
   "execution_count": 49,
   "id": "14179847",
   "metadata": {},
   "outputs": [],
   "source": [
    "true_rows, false_rows = partition(false_rows, Question(1, 'yes'))"
   ]
  },
  {
   "cell_type": "code",
   "execution_count": 50,
   "id": "875e689b",
   "metadata": {},
   "outputs": [
    {
     "data": {
      "text/html": [
       "<div>\n",
       "<style scoped>\n",
       "    .dataframe tbody tr th:only-of-type {\n",
       "        vertical-align: middle;\n",
       "    }\n",
       "\n",
       "    .dataframe tbody tr th {\n",
       "        vertical-align: top;\n",
       "    }\n",
       "\n",
       "    .dataframe thead th {\n",
       "        text-align: right;\n",
       "    }\n",
       "</style>\n",
       "<table border=\"1\" class=\"dataframe\">\n",
       "  <thead>\n",
       "    <tr style=\"text-align: right;\">\n",
       "      <th></th>\n",
       "      <th>length</th>\n",
       "      <th>helpful</th>\n",
       "      <th>emotional</th>\n",
       "      <th>Sentiment</th>\n",
       "    </tr>\n",
       "  </thead>\n",
       "  <tbody>\n",
       "    <tr>\n",
       "      <th>0</th>\n",
       "      <td>long</td>\n",
       "      <td>yes</td>\n",
       "      <td>yes</td>\n",
       "      <td>positive</td>\n",
       "    </tr>\n",
       "    <tr>\n",
       "      <th>1</th>\n",
       "      <td>long</td>\n",
       "      <td>yes</td>\n",
       "      <td>yes</td>\n",
       "      <td>positive</td>\n",
       "    </tr>\n",
       "    <tr>\n",
       "      <th>2</th>\n",
       "      <td>long</td>\n",
       "      <td>yes</td>\n",
       "      <td>no</td>\n",
       "      <td>negative</td>\n",
       "    </tr>\n",
       "    <tr>\n",
       "      <th>3</th>\n",
       "      <td>long</td>\n",
       "      <td>yes</td>\n",
       "      <td>yes</td>\n",
       "      <td>positive</td>\n",
       "    </tr>\n",
       "  </tbody>\n",
       "</table>\n",
       "</div>"
      ],
      "text/plain": [
       "  length helpful emotional Sentiment\n",
       "0   long     yes       yes  positive\n",
       "1   long     yes       yes  positive\n",
       "2   long     yes        no  negative\n",
       "3   long     yes       yes  positive"
      ]
     },
     "execution_count": 50,
     "metadata": {},
     "output_type": "execute_result"
    }
   ],
   "source": [
    "true_rows_df = transform_data_to_df(true_rows)\n",
    "true_rows_df"
   ]
  },
  {
   "cell_type": "code",
   "execution_count": 51,
   "id": "8153585c",
   "metadata": {},
   "outputs": [
    {
     "data": {
      "text/html": [
       "<div>\n",
       "<style scoped>\n",
       "    .dataframe tbody tr th:only-of-type {\n",
       "        vertical-align: middle;\n",
       "    }\n",
       "\n",
       "    .dataframe tbody tr th {\n",
       "        vertical-align: top;\n",
       "    }\n",
       "\n",
       "    .dataframe thead th {\n",
       "        text-align: right;\n",
       "    }\n",
       "</style>\n",
       "<table border=\"1\" class=\"dataframe\">\n",
       "  <thead>\n",
       "    <tr style=\"text-align: right;\">\n",
       "      <th></th>\n",
       "      <th>length</th>\n",
       "      <th>helpful</th>\n",
       "      <th>emotional</th>\n",
       "      <th>Sentiment</th>\n",
       "    </tr>\n",
       "  </thead>\n",
       "  <tbody>\n",
       "    <tr>\n",
       "      <th>0</th>\n",
       "      <td>long</td>\n",
       "      <td>no</td>\n",
       "      <td>yes</td>\n",
       "      <td>positive</td>\n",
       "    </tr>\n",
       "    <tr>\n",
       "      <th>1</th>\n",
       "      <td>long</td>\n",
       "      <td>no</td>\n",
       "      <td>no</td>\n",
       "      <td>negative</td>\n",
       "    </tr>\n",
       "    <tr>\n",
       "      <th>2</th>\n",
       "      <td>long</td>\n",
       "      <td>no</td>\n",
       "      <td>no</td>\n",
       "      <td>positive</td>\n",
       "    </tr>\n",
       "    <tr>\n",
       "      <th>3</th>\n",
       "      <td>long</td>\n",
       "      <td>no</td>\n",
       "      <td>no</td>\n",
       "      <td>positive</td>\n",
       "    </tr>\n",
       "    <tr>\n",
       "      <th>4</th>\n",
       "      <td>long</td>\n",
       "      <td>no</td>\n",
       "      <td>no</td>\n",
       "      <td>positive</td>\n",
       "    </tr>\n",
       "  </tbody>\n",
       "</table>\n",
       "</div>"
      ],
      "text/plain": [
       "  length helpful emotional Sentiment\n",
       "0   long      no       yes  positive\n",
       "1   long      no        no  negative\n",
       "2   long      no        no  positive\n",
       "3   long      no        no  positive\n",
       "4   long      no        no  positive"
      ]
     },
     "execution_count": 51,
     "metadata": {},
     "output_type": "execute_result"
    }
   ],
   "source": [
    "false_rows_df = transform_data_to_df(false_rows)\n",
    "false_rows_df"
   ]
  },
  {
   "cell_type": "code",
   "execution_count": 44,
   "id": "8dc766dd",
   "metadata": {},
   "outputs": [],
   "source": [
    "true_rows, false_rows = partition(false_rows, Question(0, 'short'))"
   ]
  },
  {
   "cell_type": "code",
   "execution_count": 38,
   "id": "0d54b2ad",
   "metadata": {},
   "outputs": [
    {
     "data": {
      "text/plain": [
       "[['long', 'no', 'no', 'negative'],\n",
       " ['long', 'no', 'no', 'positive'],\n",
       " ['long', 'no', 'no', 'positive'],\n",
       " ['long', 'no', 'no', 'positive']]"
      ]
     },
     "execution_count": 38,
     "metadata": {},
     "output_type": "execute_result"
    }
   ],
   "source": [
    "false_rows"
   ]
  },
  {
   "cell_type": "markdown",
   "id": "2708a57e",
   "metadata": {},
   "source": [
    "# Different approaches to find best possible splitting attribute (either do gini impurity or Entropy)"
   ]
  },
  {
   "cell_type": "code",
   "execution_count": null,
   "id": "1f954132",
   "metadata": {},
   "outputs": [],
   "source": []
  },
  {
   "cell_type": "code",
   "execution_count": 70,
   "id": "b071dcb1",
   "metadata": {},
   "outputs": [
    {
     "data": {
      "text/plain": [
       "'\"\\ndef gini(rows):\\n    Calculate the Gini Impurity for a list of rows.\\n\\n    There are a few different ways to do this, I thought this one was\\n    the most concise. See:\\n    https://en.wikipedia.org/wiki/Decision_tree_learning#Gini_impurity\\n    \\n    counts = class_counts(rows)\\n    impurity = 1\\n    for lbl in counts:\\n        prob_of_lbl = counts[lbl] / float(len(rows))\\n        impurity -= prob_of_lbl**2\\n    return impurity\\n    \\n'"
      ]
     },
     "execution_count": 70,
     "metadata": {},
     "output_type": "execute_result"
    }
   ],
   "source": [
    "### return the gini impurity of a row --> we do this to get the best possible splitting attribute\n",
    "\n",
    "def gini(rows):\n",
    "    \"\"\"\n",
    "    Calculate the Gini Impurity for a list of rows.\n",
    "\n",
    "    There are a few different ways to do this, I thought this one was\n",
    "    the most concise. \n",
    "    \"\"\"\n",
    "    counts = class_counts(rows)\n",
    "    impurity = 1\n",
    "    for lbl in counts:\n",
    "        prob_of_lbl = counts[lbl] / float(len(rows))\n",
    "        impurity -= prob_of_lbl**2\n",
    "    return impurity\n",
    "    \n"
   ]
  },
  {
   "cell_type": "code",
   "execution_count": 71,
   "id": "73c3d046",
   "metadata": {},
   "outputs": [],
   "source": [
    "import math"
   ]
  },
  {
   "cell_type": "code",
   "execution_count": 72,
   "id": "98720a11",
   "metadata": {},
   "outputs": [],
   "source": [
    "def entropy(rows):\n",
    "    \n",
    "    \"\"\"Calculate the Information Gain of the split with Entropy\n",
    "\n",
    "    There are a few different ways to do this, I thought this one was\n",
    "    the most concise. See:\n",
    "    slides .. in the beginning of the presentation\n",
    "    \"\"\"\n",
    "    \n",
    "    counts = class_counts(rows)\n",
    "    info_gain = 0\n",
    "    for lbl in counts:\n",
    "        prob_of_lbl = counts[lbl] / float(len(rows))\n",
    "        info_gain += (-prob_of_lbl)  * math.log2(prob_of_lbl)   \n",
    "    return info_gain"
   ]
  },
  {
   "cell_type": "code",
   "execution_count": 73,
   "id": "13b12e2b",
   "metadata": {},
   "outputs": [],
   "source": [
    "## demo to show how impurity should be working\n",
    "#\n",
    "# First, we'll look at a dataset with no mixing.\n",
    "no_mixing = [['Apple'],\n",
    "              ['Apple']]\n",
    "# this will return 0\n",
    "\n",
    "# Now, we'll look at dataset with a 50:50 apples:oranges ratio\n",
    "some_mixing = [['Apple'],\n",
    "               ['Orange']]\n",
    "# this will return 0.5 - meaning, there's a 50% chance of misclassifying\n",
    "# a random example we draw from the dataset.\n",
    "\n",
    "# Now, we'll look at a dataset with many different labels\n",
    "lots_of_mixing = [['Apple'],\n",
    "                  ['Orange'],\n",
    "                  ['Grape'],\n",
    "                  ['Grapefruit'],\n",
    "                  ['Blueberry']]\n",
    "# This will return 0.8\n",
    "#######"
   ]
  },
  {
   "cell_type": "code",
   "execution_count": 74,
   "id": "c11af6fd",
   "metadata": {},
   "outputs": [
    {
     "data": {
      "text/plain": [
       "'\\ncurrent_uncertainty = gini(data)\\ncurrent_uncertainty\\n'"
      ]
     },
     "execution_count": 74,
     "metadata": {},
     "output_type": "execute_result"
    }
   ],
   "source": [
    "\"\"\"\n",
    "current_uncertainty = gini(data)\n",
    "current_uncertainty\n",
    "\"\"\""
   ]
  },
  {
   "cell_type": "code",
   "execution_count": 75,
   "id": "08941e9f",
   "metadata": {},
   "outputs": [
    {
     "data": {
      "text/plain": [
       "0.8453509366224364"
      ]
     },
     "execution_count": 75,
     "metadata": {},
     "output_type": "execute_result"
    }
   ],
   "source": [
    "second_uncertainty = entropy(data)\n",
    "second_uncertainty"
   ]
  },
  {
   "cell_type": "code",
   "execution_count": 76,
   "id": "5e364ac8",
   "metadata": {},
   "outputs": [
    {
     "data": {
      "text/plain": [
       "'\"\\ndef info_gain_gini(left, right, current_uncertainty):\\n    Information Gain.\\n\\n    The uncertainty of the starting node, minus the weighted impurity of\\n    two child nodes.\\n    \\n    p = float(len(left)) / (len(left) + len(right))\\n    return current_uncertainty - p * gini(left) - (1 - p) * gini(right)\\n    \\n'"
      ]
     },
     "execution_count": 76,
     "metadata": {},
     "output_type": "execute_result"
    }
   ],
   "source": [
    "\"\"\"\"\n",
    "def info_gain_gini(left, right, current_uncertainty):\n",
    "    Information Gain.\n",
    "\n",
    "    The uncertainty of the starting node, minus the weighted impurity of\n",
    "    two child nodes.\n",
    "    \n",
    "    p = float(len(left)) / (len(left) + len(right))\n",
    "    return current_uncertainty - p * gini(left) - (1 - p) * gini(right)\n",
    "    \n",
    "\"\"\""
   ]
  },
  {
   "cell_type": "code",
   "execution_count": 77,
   "id": "330afe3f",
   "metadata": {},
   "outputs": [],
   "source": [
    "def info_gain_entropy(left, right, current_info_gain):\n",
    "    p = float(len(left)) / (len(left) + len(right))\n",
    "    \n",
    "    return current_info_gain - p * entropy(left) - (1 - p) * entropy(right)"
   ]
  },
  {
   "cell_type": "code",
   "execution_count": 100,
   "id": "edbe2d91",
   "metadata": {},
   "outputs": [
    {
     "data": {
      "text/plain": [
       "0.03827452220629257"
      ]
     },
     "execution_count": 100,
     "metadata": {},
     "output_type": "execute_result"
    }
   ],
   "source": [
    "# How much information do we gain by partioning on 'Green'?\n",
    "true_rows, false_rows = partition(data, Question(0, 'long'))\n",
    "info_gain_entropy(true_rows, false_rows, second_uncertainty)"
   ]
  },
  {
   "cell_type": "code",
   "execution_count": 79,
   "id": "9e2e7d50",
   "metadata": {},
   "outputs": [],
   "source": [
    "def find_best_split(rows):\n",
    "    \"\"\"Find the best question to ask by iterating over every feature / value\n",
    "    and calculating the information gain.\"\"\"\n",
    "    best_gain = 0  # keep track of the best information gain\n",
    "    best_question = None  # keep train of the feature / value that produced it\n",
    "    current_uncertainty = entropy(rows)\n",
    "    n_features = len(rows[0]) - 1  # number of columns\n",
    "\n",
    "    for col in range(n_features):  # for each feature\n",
    "\n",
    "        values = set([row[col] for row in rows])  # unique values in the column\n",
    "\n",
    "        for val in values:  # for each value\n",
    "\n",
    "            question = Question(col, val)\n",
    "\n",
    "            # try splitting the dataset\n",
    "            true_rows, false_rows = partition(rows, question)\n",
    "\n",
    "            # Skip this split if it doesn't divide the\n",
    "            # dataset.\n",
    "            if len(true_rows) == 0 or len(false_rows) == 0:\n",
    "                continue\n",
    "\n",
    "            # Calculate the information gain from this split\n",
    "            gain = info_gain_entropy(true_rows, false_rows, current_uncertainty)\n",
    "            print(\"run\")\n",
    "            \n",
    "            print(question)\n",
    "            print(gain)\n",
    "            # You actually can use '>' instead of '>=' here\n",
    "            # but I wanted the tree to look a certain way for our\n",
    "            # toy dataset.\n",
    "            if gain > best_gain:\n",
    "                best_gain, best_question = gain, question\n",
    "                print(\"update\")\n",
    "               \n",
    "\n",
    "    return best_gain, best_question"
   ]
  },
  {
   "cell_type": "markdown",
   "id": "59691f69",
   "metadata": {},
   "source": [
    "### Test run to find the best splitting attr. for the first partition"
   ]
  },
  {
   "cell_type": "code",
   "execution_count": 80,
   "id": "3cf73c20",
   "metadata": {},
   "outputs": [
    {
     "name": "stdout",
     "output_type": "stream",
     "text": [
      "run\n",
      "Is length == long?\n",
      "0.03827452220629257\n",
      "update\n",
      "run\n",
      "Is length == short?\n",
      "0.03827452220629268\n",
      "update\n",
      "run\n",
      "Is helpful == no?\n",
      "0.016313165825732\n",
      "run\n",
      "Is helpful == yes?\n",
      "0.016313165825732057\n",
      "run\n",
      "Is emotional == no?\n",
      "0.299896391167891\n",
      "update\n",
      "run\n",
      "Is emotional == yes?\n",
      "0.299896391167891\n",
      "Is emotional == no?\n",
      "0.299896391167891\n"
     ]
    }
   ],
   "source": [
    "# Find the best question to ask first for our toy dataset.\n",
    "best_gain, question = find_best_split(data)\n",
    "print(question)\n",
    "print(best_gain)"
   ]
  },
  {
   "cell_type": "markdown",
   "id": "34492e1f",
   "metadata": {},
   "source": [
    "## Test run no.2 to find best splitting attr. for another dataset -- just to check if the entropy calculation works"
   ]
  },
  {
   "cell_type": "code",
   "execution_count": 110,
   "id": "b4ae423c",
   "metadata": {},
   "outputs": [],
   "source": [
    "data2 =[ \n",
    "    [\"long\", \"yes\", \"no\", \"negative\"],\n",
    "    [\"long\", \"no\", \"no\", \"negative\"],\n",
    "    [\"long\", \"no\", \"no\", \"positive\"], \n",
    "    [\"long\", \"no\", \"no\", \"positive\"],\n",
    "    [\"long\", \"no\", \"no\", \"positive\"],\n",
    "]"
   ]
  },
  {
   "cell_type": "code",
   "execution_count": 111,
   "id": "8162f48f",
   "metadata": {
    "scrolled": true
   },
   "outputs": [
    {
     "name": "stdout",
     "output_type": "stream",
     "text": [
      "run\n",
      "Is helpful == no?\n",
      "0.3219280948873623\n",
      "update\n",
      "run\n",
      "Is helpful == yes?\n",
      "0.3219280948873623\n",
      "Is helpful == no?\n",
      "0.3219280948873623\n"
     ]
    }
   ],
   "source": [
    "best_gain, question = find_best_split(data2)\n",
    "print(question)\n",
    "print(best_gain)"
   ]
  },
  {
   "cell_type": "code",
   "execution_count": 112,
   "id": "97bf0e31",
   "metadata": {},
   "outputs": [],
   "source": [
    "true_rows, false_rows = partition(data2, Question(1, 'no'))\n",
    "# true_rows will contain all the short reviews.\n"
   ]
  },
  {
   "cell_type": "code",
   "execution_count": 114,
   "id": "441bfe54",
   "metadata": {},
   "outputs": [
    {
     "data": {
      "text/html": [
       "<div>\n",
       "<style scoped>\n",
       "    .dataframe tbody tr th:only-of-type {\n",
       "        vertical-align: middle;\n",
       "    }\n",
       "\n",
       "    .dataframe tbody tr th {\n",
       "        vertical-align: top;\n",
       "    }\n",
       "\n",
       "    .dataframe thead th {\n",
       "        text-align: right;\n",
       "    }\n",
       "</style>\n",
       "<table border=\"1\" class=\"dataframe\">\n",
       "  <thead>\n",
       "    <tr style=\"text-align: right;\">\n",
       "      <th></th>\n",
       "      <th>length</th>\n",
       "      <th>helpful</th>\n",
       "      <th>emotional</th>\n",
       "      <th>Sentiment</th>\n",
       "    </tr>\n",
       "  </thead>\n",
       "  <tbody>\n",
       "    <tr>\n",
       "      <th>0</th>\n",
       "      <td>long</td>\n",
       "      <td>no</td>\n",
       "      <td>no</td>\n",
       "      <td>negative</td>\n",
       "    </tr>\n",
       "    <tr>\n",
       "      <th>1</th>\n",
       "      <td>long</td>\n",
       "      <td>no</td>\n",
       "      <td>no</td>\n",
       "      <td>positive</td>\n",
       "    </tr>\n",
       "    <tr>\n",
       "      <th>2</th>\n",
       "      <td>long</td>\n",
       "      <td>no</td>\n",
       "      <td>no</td>\n",
       "      <td>positive</td>\n",
       "    </tr>\n",
       "    <tr>\n",
       "      <th>3</th>\n",
       "      <td>long</td>\n",
       "      <td>no</td>\n",
       "      <td>no</td>\n",
       "      <td>positive</td>\n",
       "    </tr>\n",
       "  </tbody>\n",
       "</table>\n",
       "</div>"
      ],
      "text/plain": [
       "  length helpful emotional Sentiment\n",
       "0   long      no        no  negative\n",
       "1   long      no        no  positive\n",
       "2   long      no        no  positive\n",
       "3   long      no        no  positive"
      ]
     },
     "execution_count": 114,
     "metadata": {},
     "output_type": "execute_result"
    }
   ],
   "source": [
    "true_rows_df = transform_data_to_df(true_rows)\n",
    "false_rows_df = transform_data_to_df(false_rows)\n",
    "true_rows_df"
   ]
  },
  {
   "cell_type": "markdown",
   "id": "38852d23",
   "metadata": {},
   "source": [
    "## Create leafs of our decision tree and also nodes with splitting questions"
   ]
  },
  {
   "cell_type": "code",
   "execution_count": 85,
   "id": "5d5da2ef",
   "metadata": {},
   "outputs": [],
   "source": [
    "class Leaf:\n",
    "    \"\"\"A Leaf node classifies data.\n",
    "\n",
    "    This holds a dictionary of class (e.g., \"Apple\") -> number of times\n",
    "    it appears in the rows from the training data that reach this leaf.\n",
    "    \"\"\"\n",
    "\n",
    "    def __init__(self, rows):\n",
    "        self.predictions = class_counts(rows)"
   ]
  },
  {
   "cell_type": "code",
   "execution_count": 86,
   "id": "7b1722a0",
   "metadata": {},
   "outputs": [],
   "source": [
    "class Decision_Node:\n",
    "    \"\"\"A Decision Node asks a question.\n",
    "\n",
    "    This holds a reference to the question, and to the two child nodes.\n",
    "    \"\"\"\n",
    "\n",
    "    def __init__(self,\n",
    "                 question,\n",
    "                 true_branch,\n",
    "                 false_branch):\n",
    "        self.question = question\n",
    "        self.true_branch = true_branch\n",
    "        self.false_branch = false_branch"
   ]
  },
  {
   "cell_type": "markdown",
   "id": "ad5b1e17",
   "metadata": {},
   "source": [
    "## Functions to build a decision tree and show which splits should be done to get best results"
   ]
  },
  {
   "cell_type": "code",
   "execution_count": 87,
   "id": "6ceb4e9e",
   "metadata": {},
   "outputs": [],
   "source": [
    "def build_tree(rows):\n",
    "    \"\"\"Builds the tree.\n",
    "\n",
    "    Rules of recursion: 1) Believe that it works. 2) Start by checking\n",
    "    for the base case (no further information gain). 3) Prepare for\n",
    "    giant stack traces.\n",
    "    \"\"\"\n",
    "\n",
    "    # Try partitioing the dataset on each of the unique attribute,\n",
    "    # calculate the information gain,\n",
    "    # and return the question that produces the highest gain.\n",
    "    gain, question = find_best_split(rows)\n",
    "    print(gain)\n",
    "    print(question)\n",
    "\n",
    "    # Base case: no further info gain\n",
    "    # Since we can ask no further questions,\n",
    "    # we'll return a leaf.\n",
    "    if gain == 0:\n",
    "        return Leaf(rows)\n",
    "\n",
    "    # If we reach here, we have found a useful feature / value\n",
    "    # to partition on.\n",
    "    true_rows, false_rows = partition(rows, question)\n",
    "\n",
    "    # Recursively build the true branch.\n",
    "    true_branch = build_tree(true_rows)\n",
    "\n",
    "    # Recursively build the false branch.\n",
    "    false_branch = build_tree(false_rows)\n",
    "\n",
    "    # Return a Question node.\n",
    "    # This records the best feature / value to ask at this point,\n",
    "    # as well as the branches to follow\n",
    "    # dependingo on the answer.\n",
    "    return Decision_Node(question, true_branch, false_branch)"
   ]
  },
  {
   "cell_type": "code",
   "execution_count": 43,
   "id": "9b6e1aa0",
   "metadata": {},
   "outputs": [],
   "source": [
    "def print_tree(node, spacing=\"\"):\n",
    "    \"\"\"World's most elegant tree printing function.\"\"\"\n",
    "\n",
    "    # Base case: we've reached a leaf\n",
    "    if isinstance(node, Leaf):\n",
    "        print (spacing + \"Predict\", node.predictions)\n",
    "        return\n",
    "\n",
    "    # Print the question at this node\n",
    "    print (spacing + str(node.question))\n",
    "\n",
    "    # Call this function recursively on the true branch\n",
    "    print (spacing + '--> True:')\n",
    "    print_tree(node.true_branch, spacing + \"  \")\n",
    "\n",
    "    # Call this function recursively on the false branch\n",
    "    print (spacing + '--> False:')\n",
    "    print_tree(node.false_branch, spacing + \"  \")"
   ]
  },
  {
   "cell_type": "code",
   "execution_count": 44,
   "id": "3d60f316",
   "metadata": {},
   "outputs": [
    {
     "name": "stdout",
     "output_type": "stream",
     "text": [
      "run\n",
      "Is length == long?\n",
      "0.03827452220629257\n",
      "update\n",
      "run\n",
      "Is length == short?\n",
      "0.03827452220629268\n",
      "update\n",
      "run\n",
      "Is helpful == no?\n",
      "0.016313165825732\n",
      "run\n",
      "Is helpful == yes?\n",
      "0.016313165825732057\n",
      "run\n",
      "Is emotional == no?\n",
      "0.299896391167891\n",
      "update\n",
      "run\n",
      "Is emotional == yes?\n",
      "0.299896391167891\n",
      "0.299896391167891\n",
      "Is emotional == no?\n",
      "run\n",
      "Is length == long?\n",
      "0.19087450462110944\n",
      "update\n",
      "run\n",
      "Is length == short?\n",
      "0.19087450462110944\n",
      "run\n",
      "Is helpful == no?\n",
      "0.19087450462110944\n",
      "run\n",
      "Is helpful == yes?\n",
      "0.19087450462110944\n",
      "0.19087450462110944\n",
      "Is length == long?\n",
      "run\n",
      "Is helpful == no?\n",
      "0.3219280948873623\n",
      "update\n",
      "run\n",
      "Is helpful == yes?\n",
      "0.3219280948873623\n",
      "0.3219280948873623\n",
      "Is helpful == no?\n",
      "0\n",
      "None\n",
      "0\n",
      "None\n",
      "0\n",
      "None\n",
      "run\n",
      "Is length == long?\n",
      "0.0\n",
      "run\n",
      "Is length == short?\n",
      "0.0\n",
      "run\n",
      "Is helpful == no?\n",
      "0.0\n",
      "run\n",
      "Is helpful == yes?\n",
      "0.0\n",
      "0\n",
      "None\n"
     ]
    },
    {
     "data": {
      "text/plain": [
       "<__main__.Decision_Node at 0x7fd5c38be3a0>"
      ]
     },
     "execution_count": 44,
     "metadata": {},
     "output_type": "execute_result"
    }
   ],
   "source": [
    "my_tree = build_tree(data)\n",
    "my_tree"
   ]
  },
  {
   "cell_type": "code",
   "execution_count": 45,
   "id": "039575cb",
   "metadata": {},
   "outputs": [
    {
     "name": "stdout",
     "output_type": "stream",
     "text": [
      "Is emotional == no?\n",
      "--> True:\n",
      "  Is length == long?\n",
      "  --> True:\n",
      "    Is helpful == no?\n",
      "    --> True:\n",
      "      Predict {'negative': 1, 'positive': 3}\n",
      "    --> False:\n",
      "      Predict {'negative': 1}\n",
      "  --> False:\n",
      "    Predict {'negative': 1}\n",
      "--> False:\n",
      "  Predict {'positive': 5}\n"
     ]
    }
   ],
   "source": [
    "print_tree(my_tree)"
   ]
  },
  {
   "cell_type": "markdown",
   "id": "4226181d",
   "metadata": {},
   "source": [
    "## Make classification of new tuples according to our before created dec tree"
   ]
  },
  {
   "cell_type": "code",
   "execution_count": 46,
   "id": "23ab5194",
   "metadata": {},
   "outputs": [],
   "source": [
    "def classify(row, node):\n",
    "    \"\"\"See the 'rules of recursion' above.\"\"\"\n",
    "\n",
    "    # Base case: we've reached a leaf\n",
    "    if isinstance(node, Leaf):\n",
    "        return node.predictions\n",
    "\n",
    "    # Decide whether to follow the true-branch or the false-branch.\n",
    "    # Compare the feature / value stored in the node,\n",
    "    # to the example we're considering.\n",
    "    if node.question.match(row):\n",
    "        return classify(row, node.true_branch)\n",
    "    else:\n",
    "        return classify(row, node.false_branch)"
   ]
  },
  {
   "cell_type": "code",
   "execution_count": 47,
   "id": "6bc59cbe",
   "metadata": {},
   "outputs": [
    {
     "data": {
      "text/plain": [
       "{'positive': 5}"
      ]
     },
     "execution_count": 47,
     "metadata": {},
     "output_type": "execute_result"
    }
   ],
   "source": [
    "classify([\"long\", \"no\", \"yes\"], my_tree)"
   ]
  },
  {
   "cell_type": "code",
   "execution_count": null,
   "id": "78f9c3e1",
   "metadata": {},
   "outputs": [],
   "source": []
  }
 ],
 "metadata": {
  "kernelspec": {
   "display_name": "Python 3 (ipykernel)",
   "language": "python",
   "name": "python3"
  },
  "language_info": {
   "codemirror_mode": {
    "name": "ipython",
    "version": 3
   },
   "file_extension": ".py",
   "mimetype": "text/x-python",
   "name": "python",
   "nbconvert_exporter": "python",
   "pygments_lexer": "ipython3",
   "version": "3.9.7"
  }
 },
 "nbformat": 4,
 "nbformat_minor": 5
}
